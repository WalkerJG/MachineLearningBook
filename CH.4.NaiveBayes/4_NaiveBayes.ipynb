{
 "cells": [
  {
   "cell_type": "code",
   "execution_count": 38,
   "metadata": {},
   "outputs": [],
   "source": [
    "import numpy as np\n",
    "#训练数据\n",
    "X_train = [[1, 'S'], [1, 'M'], [1, 'M'], [1, 'S'], [1, 'S'],\n",
    "           [2, 'S'], [2, 'M'], [2, 'M'], [2, 'L'], [2, 'L'],\n",
    "           [3, 'L'], [3, 'M'], [3, 'M'], [3, 'L'], [3, 'L']]\n",
    "Y_train = [-1, -1, 1, 1, -1, -1, -1, 1, 1, 1, 1, 1, 1, 1, -1]\n",
    "\n",
    "#X的特征集合（2种特征，每种三个）\n",
    "feature = [[1, 'S'],\n",
    "           [2, 'M'],\n",
    "           [3, 'L']]\n",
    "#测试集输入\n",
    "testset = [2, 'S']"
   ]
  },
  {
   "cell_type": "code",
   "execution_count": 41,
   "metadata": {},
   "outputs": [
    {
     "name": "stdout",
     "output_type": "stream",
     "text": [
      "Y的先验概率\n",
      "P(Y=1) =  0.6\n",
      "P(Y=-1) =  0.4\n"
     ]
    }
   ],
   "source": [
    "class_num = 2  # 分类数目\n",
    "label = [1, -1]  # 分类标签\n",
    "feature_len = 3  # 特征长度\n",
    "# 构造3×2的列表\n",
    "feature = [[1, 'S'],\n",
    "           [2, 'M'],\n",
    "           [3, 'L']]\n",
    "\n",
    "prior_probability = np.zeros(class_num)  # 初始化先验概率\n",
    "conditional_probability = np.zeros((class_num, feature_len, 2))  # 初始化条件概率\n",
    "\n",
    "positive_count = 0  # 统计正类\n",
    "negative_count = 0  # 统计负类\n",
    "for i in range(len(Y_train)):\n",
    "    if Y_train[i] == 1:\n",
    "        positive_count += 1\n",
    "    else:\n",
    "        negative_count += 1\n",
    "prior_probability[0] = positive_count / len(Y_train)  # 求得正类的先验概率\n",
    "prior_probability[1] = negative_count / len(Y_train)  # 求得负类的先验概率\n",
    "print(\"Y的先验概率\")\n",
    "print(\"P(Y=1) = \",prior_probability[0])\n",
    "print(\"P(Y=-1) = \",prior_probability[1])\n"
   ]
  },
  {
   "cell_type": "code",
   "execution_count": 42,
   "metadata": {
    "scrolled": true
   },
   "outputs": [
    {
     "name": "stdout",
     "output_type": "stream",
     "text": [
      "X的后验概率\n",
      "[[[0.22222222 0.11111111]\n",
      "  [0.33333333 0.44444444]\n",
      "  [0.44444444 0.44444444]]\n",
      "\n",
      " [[0.5        0.5       ]\n",
      "  [0.33333333 0.33333333]\n",
      "  [0.16666667 0.16666667]]]\n"
     ]
    }
   ],
   "source": [
    "for i in range(class_num):\n",
    "    # 对特征按行遍历\n",
    "    for j in range(feature_len):\n",
    "        # 遍历数据集，并依次做判断\n",
    "        for k in range(len(Y_train)):\n",
    "            if Y_train[k] == label[i]:  # 相同类别\n",
    "                if X_train[k][0] == feature[j][0]:\n",
    "                    conditional_probability[i][j][0] += 1\n",
    "                if X_train[k][1] == feature[j][1]:\n",
    "                    conditional_probability[i][j][1] += 1\n",
    "\n",
    "class_label_num = [positive_count, negative_count]  # 存放各类型的数目\n",
    "for i in range(class_num):\n",
    "    for j in range(feature_len):\n",
    "        conditional_probability[i][j][0] = conditional_probability[i][j][0] / class_label_num[\n",
    "            i]  # 求得i类j行第一个特征的条件概率\n",
    "        conditional_probability[i][j][1] = conditional_probability[i][j][1] / class_label_num[i]  # 求得i类j行第二个特征的条件概率 \n",
    "        \n",
    "print(\"X的后验概率\")\n",
    "print(conditional_probability)\n"
   ]
  },
  {
   "cell_type": "code",
   "execution_count": 43,
   "metadata": {},
   "outputs": [
    {
     "name": "stdout",
     "output_type": "stream",
     "text": [
      "[[ 0.02222222  0.06666667]\n",
      " [ 1.         -1.        ]]\n"
     ]
    }
   ],
   "source": [
    "result = np.zeros(len(label))\n",
    "for i in range(class_num):\n",
    "    for j in range(len(feature)):\n",
    "        if feature[j][0] == testset[0]:\n",
    "            conditionalA = conditional_probability[i][j][0]\n",
    "        if feature[j][1] == testset[1]:\n",
    "            conditionalB = conditional_probability[i][j][1]\n",
    "    result[i] = conditionalA * conditionalB * prior_probability[i]\n",
    "\n",
    "result = np.vstack([result, label])\n",
    "\n",
    "print(result)"
   ]
  },
  {
   "cell_type": "code",
   "execution_count": null,
   "metadata": {},
   "outputs": [],
   "source": []
  }
 ],
 "metadata": {
  "kernelspec": {
   "display_name": "Python 3",
   "language": "python",
   "name": "python3"
  },
  "language_info": {
   "codemirror_mode": {
    "name": "ipython",
    "version": 3
   },
   "file_extension": ".py",
   "mimetype": "text/x-python",
   "name": "python",
   "nbconvert_exporter": "python",
   "pygments_lexer": "ipython3",
   "version": "3.6.7"
  }
 },
 "nbformat": 4,
 "nbformat_minor": 2
}
