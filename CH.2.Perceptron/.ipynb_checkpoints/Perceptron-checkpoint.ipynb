{
 "cells": [
  {
   "cell_type": "code",
   "execution_count": 1,
   "metadata": {},
   "outputs": [],
   "source": [
    "import pandas as pd\n",
    "import numpy as np\n",
    "names=[\"sepal_len\",\"sepal_wid\",\"petal_len\",\"petal_wid\",\"class\"]\n",
    "iris = pd.read_csv(\"../data/iris.data\",names=names)"
   ]
  },
  {
   "cell_type": "code",
   "execution_count": 2,
   "metadata": {},
   "outputs": [
    {
     "name": "stdout",
     "output_type": "stream",
     "text": [
      "   sepal_len  sepal_wid  petal_len  petal_wid        class\n",
      "0        5.1        3.5        1.4        0.2  Iris-setosa\n",
      "1        4.9        3.0        1.4        0.2  Iris-setosa\n",
      "2        4.7        3.2        1.3        0.2  Iris-setosa\n",
      "3        4.6        3.1        1.5        0.2  Iris-setosa\n",
      "4        5.0        3.6        1.4        0.2  Iris-setosa\n",
      "5        5.4        3.9        1.7        0.4  Iris-setosa\n",
      "6        4.6        3.4        1.4        0.3  Iris-setosa\n",
      "7        5.0        3.4        1.5        0.2  Iris-setosa\n",
      "8        4.4        2.9        1.4        0.2  Iris-setosa\n",
      "9        4.9        3.1        1.5        0.1  Iris-setosa\n",
      "        sepal_len   sepal_wid   petal_len   petal_wid\n",
      "count  150.000000  150.000000  150.000000  150.000000\n",
      "mean     5.843333    3.054000    3.758667    1.198667\n",
      "std      0.828066    0.433594    1.764420    0.763161\n",
      "min      4.300000    2.000000    1.000000    0.100000\n",
      "25%      5.100000    2.800000    1.600000    0.300000\n",
      "50%      5.800000    3.000000    4.350000    1.300000\n",
      "75%      6.400000    3.300000    5.100000    1.800000\n",
      "max      7.900000    4.400000    6.900000    2.500000\n"
     ]
    }
   ],
   "source": [
    "print(iris[:10])\n",
    "print(iris.describe())"
   ]
  },
  {
   "cell_type": "code",
   "execution_count": 3,
   "metadata": {},
   "outputs": [
    {
     "name": "stdout",
     "output_type": "stream",
     "text": [
      "     sepal_len  sepal_wid  petal_len  petal_wid        class\n",
      "0          5.1        3.5        1.4        0.2  Iris-setosa\n",
      "1          4.9        3.0        1.4        0.2  Iris-setosa\n",
      "2          4.7        3.2        1.3        0.2  Iris-setosa\n",
      "3          4.6        3.1        1.5        0.2  Iris-setosa\n",
      "4          5.0        3.6        1.4        0.2  Iris-setosa\n",
      "5          5.4        3.9        1.7        0.4  Iris-setosa\n",
      "6          4.6        3.4        1.4        0.3  Iris-setosa\n",
      "7          5.0        3.4        1.5        0.2  Iris-setosa\n",
      "8          4.4        2.9        1.4        0.2  Iris-setosa\n",
      "9          4.9        3.1        1.5        0.1  Iris-setosa\n",
      "10         5.4        3.7        1.5        0.2  Iris-setosa\n",
      "11         4.8        3.4        1.6        0.2  Iris-setosa\n",
      "12         4.8        3.0        1.4        0.1  Iris-setosa\n",
      "13         4.3        3.0        1.1        0.1  Iris-setosa\n",
      "14         5.8        4.0        1.2        0.2  Iris-setosa\n",
      "15         5.7        4.4        1.5        0.4  Iris-setosa\n",
      "16         5.4        3.9        1.3        0.4  Iris-setosa\n",
      "17         5.1        3.5        1.4        0.3  Iris-setosa\n",
      "18         5.7        3.8        1.7        0.3  Iris-setosa\n",
      "19         5.1        3.8        1.5        0.3  Iris-setosa\n",
      "20         5.4        3.4        1.7        0.2  Iris-setosa\n",
      "21         5.1        3.7        1.5        0.4  Iris-setosa\n",
      "22         4.6        3.6        1.0        0.2  Iris-setosa\n",
      "23         5.1        3.3        1.7        0.5  Iris-setosa\n",
      "24         4.8        3.4        1.9        0.2  Iris-setosa\n",
      "25         5.0        3.0        1.6        0.2  Iris-setosa\n",
      "26         5.0        3.4        1.6        0.4  Iris-setosa\n",
      "27         5.2        3.5        1.5        0.2  Iris-setosa\n",
      "28         5.2        3.4        1.4        0.2  Iris-setosa\n",
      "29         4.7        3.2        1.6        0.2  Iris-setosa\n",
      "..         ...        ...        ...        ...          ...\n",
      "120        6.9        3.2        5.7        2.3        other\n",
      "121        5.6        2.8        4.9        2.0        other\n",
      "122        7.7        2.8        6.7        2.0        other\n",
      "123        6.3        2.7        4.9        1.8        other\n",
      "124        6.7        3.3        5.7        2.1        other\n",
      "125        7.2        3.2        6.0        1.8        other\n",
      "126        6.2        2.8        4.8        1.8        other\n",
      "127        6.1        3.0        4.9        1.8        other\n",
      "128        6.4        2.8        5.6        2.1        other\n",
      "129        7.2        3.0        5.8        1.6        other\n",
      "130        7.4        2.8        6.1        1.9        other\n",
      "131        7.9        3.8        6.4        2.0        other\n",
      "132        6.4        2.8        5.6        2.2        other\n",
      "133        6.3        2.8        5.1        1.5        other\n",
      "134        6.1        2.6        5.6        1.4        other\n",
      "135        7.7        3.0        6.1        2.3        other\n",
      "136        6.3        3.4        5.6        2.4        other\n",
      "137        6.4        3.1        5.5        1.8        other\n",
      "138        6.0        3.0        4.8        1.8        other\n",
      "139        6.9        3.1        5.4        2.1        other\n",
      "140        6.7        3.1        5.6        2.4        other\n",
      "141        6.9        3.1        5.1        2.3        other\n",
      "142        5.8        2.7        5.1        1.9        other\n",
      "143        6.8        3.2        5.9        2.3        other\n",
      "144        6.7        3.3        5.7        2.5        other\n",
      "145        6.7        3.0        5.2        2.3        other\n",
      "146        6.3        2.5        5.0        1.9        other\n",
      "147        6.5        3.0        5.2        2.0        other\n",
      "148        6.2        3.4        5.4        2.3        other\n",
      "149        5.9        3.0        5.1        1.8        other\n",
      "\n",
      "[150 rows x 5 columns]\n"
     ]
    }
   ],
   "source": [
    "def convertIrisTo2Class(iris):\n",
    "    '''\n",
    "        Convert iris's three classes into two classes.\n",
    "    '''\n",
    "    iris.loc[iris['class']!='Iris-setosa','class']='other'\n",
    "    return iris\n",
    "iris = convertIrisTo2Class(iris)\n",
    "print(iris)"
   ]
  },
  {
   "cell_type": "code",
   "execution_count": 4,
   "metadata": {},
   "outputs": [],
   "source": [
    "def preprocessIris(iris):\n",
    "    '''\n",
    "        Preprocess iris data including normalization and label transformation, etc.\n",
    "    '''\n",
    "    features=iris.loc[:,[\"sepal_len\",\"sepal_wid\",\"petal_len\",\"petal_wid\"]]\n",
    "    labels=iris.loc[:,[\"class\"]]\n",
    "    normalized_features=(features-features.min())/(features.max()-features.min())\n",
    "    labels.loc[iris['class']!='other','class']=+1\n",
    "    labels.loc[iris['class']=='other','class']=-1\n",
    "#     print(normalized_features,labels)\n",
    "    return pd.concat([normalized_features,labels],axis=1)"
   ]
  },
  {
   "cell_type": "code",
   "execution_count": 5,
   "metadata": {},
   "outputs": [],
   "source": [
    "iris=preprocessIris(iris)\n",
    "# print(iris)"
   ]
  },
  {
   "cell_type": "code",
   "execution_count": 6,
   "metadata": {},
   "outputs": [],
   "source": [
    "def train_test_split(data, label, ratio=0.8):\n",
    "    size=len(data)\n",
    "    index=data.index\n",
    "    random_index=np.random.permutation(index)\n",
    "    split_point = int(size*ratio)\n",
    "    \n",
    "    train_x=data.loc[random_index[:split_point]].values\n",
    "    train_y=label.loc[random_index[:split_point]].values\n",
    "    test_x=data.loc[random_index[split_point:]].values\n",
    "    test_y=label.loc[random_index[split_point:]].values\n",
    "    \n",
    "    return train_x,train_y,test_x,test_y"
   ]
  },
  {
   "cell_type": "code",
   "execution_count": 7,
   "metadata": {},
   "outputs": [],
   "source": [
    "features = iris.loc[:,[\"sepal_len\",\"sepal_wid\",\"petal_len\",\"petal_wid\"]]\n",
    "labels = iris.loc[:,\"class\"]\n",
    "train_x,train_y, val_x, val_y = train_test_split(features,labels,0.7)"
   ]
  },
  {
   "cell_type": "code",
   "execution_count": 18,
   "metadata": {},
   "outputs": [],
   "source": [
    "class Perceptron:\n",
    "    '''\n",
    "        Perceptron\n",
    "    '''\n",
    "    def __init__(self):\n",
    "        self.w = None\n",
    "        self.b = None\n",
    "        self.errors_ = None\n",
    "        \n",
    "    def train(self,x, y, eta=0.1, epochs = 10):\n",
    "        self.w = np.zeros(x.shape[1])\n",
    "        self.b = 0\n",
    "        self.errors_ = np.zeros(epochs)\n",
    "        \n",
    "        sample_size = len(x)\n",
    "        for epoch in range(epochs):\n",
    "            error = 0\n",
    "            for i in range(sample_size):\n",
    "                res = -y[i]*(np.dot(self.w, x[i])+ self.b)\n",
    "                error += res\n",
    "                \n",
    "                if res >= 0:# misclassified \n",
    "                    self.w = self.w + eta * y[i]*x[i]\n",
    "                    self.b = self.b + eta * y[i]\n",
    "            self.errors_[epoch]=error\n",
    "        print(\"Training errors:\",self.errors_)\n",
    "        return self\n",
    "    \n",
    "    def predict(self,x, y):\n",
    "        if self.w is None or self.b is None:\n",
    "            raise RuntimeError(\"The model is untrained yet.\")\n",
    "        sample_size = len(x)\n",
    "        correct_num = 0\n",
    "        for i in range(sample_size):\n",
    "            pred = y[i]*(np.dot(self.w, x[i])+ self.b)\n",
    "            if pred > 0:\n",
    "                correct_num+=1\n",
    "        print(\"The final accuracy is %2f%%\" % float(correct_num*100/sample_size))"
   ]
  },
  {
   "cell_type": "code",
   "execution_count": 27,
   "metadata": {},
   "outputs": [
    {
     "name": "stdout",
     "output_type": "stream",
     "text": [
      "Training errors: [-10.7098819   -9.94031881 -11.55475046 -11.55475046 -11.55475046\n",
      " -11.55475046 -11.55475046 -11.55475046 -11.55475046 -11.55475046]\n",
      "The final accuracy is 100.000000%\n"
     ]
    }
   ],
   "source": [
    "model = Perceptron()\n",
    "model.train(train_x, train_y)\n",
    "model.predict(val_x,val_y)"
   ]
  },
  {
   "cell_type": "code",
   "execution_count": null,
   "metadata": {},
   "outputs": [],
   "source": []
  },
  {
   "cell_type": "code",
   "execution_count": null,
   "metadata": {},
   "outputs": [],
   "source": []
  }
 ],
 "metadata": {
  "kernelspec": {
   "display_name": "Python 3",
   "language": "python",
   "name": "python3"
  },
  "language_info": {
   "codemirror_mode": {
    "name": "ipython",
    "version": 3
   },
   "file_extension": ".py",
   "mimetype": "text/x-python",
   "name": "python",
   "nbconvert_exporter": "python",
   "pygments_lexer": "ipython3",
   "version": "3.6.7"
  }
 },
 "nbformat": 4,
 "nbformat_minor": 2
}
