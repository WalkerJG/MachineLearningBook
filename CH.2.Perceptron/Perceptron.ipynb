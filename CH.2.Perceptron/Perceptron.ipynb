{
 "cells": [
  {
   "cell_type": "code",
   "execution_count": 1,
   "metadata": {},
   "outputs": [],
   "source": [
    "import pandas as pd\n",
    "import numpy as np\n",
    "import matplotlib.pyplot as plt\n",
    "\n",
    "names=[\"sepal_len\",\"sepal_wid\",\"petal_len\",\"petal_wid\",\"class\"]\n",
    "iris = pd.read_csv(\"../data/iris.data\",names=names)"
   ]
  },
  {
   "cell_type": "code",
   "execution_count": 2,
   "metadata": {},
   "outputs": [
    {
     "name": "stdout",
     "output_type": "stream",
     "text": [
      "   sepal_len  sepal_wid  petal_len  petal_wid        class\n",
      "0        5.1        3.5        1.4        0.2  Iris-setosa\n",
      "1        4.9        3.0        1.4        0.2  Iris-setosa\n",
      "2        4.7        3.2        1.3        0.2  Iris-setosa\n",
      "3        4.6        3.1        1.5        0.2  Iris-setosa\n",
      "4        5.0        3.6        1.4        0.2  Iris-setosa\n"
     ]
    }
   ],
   "source": [
    "print(iris.head())"
   ]
  },
  {
   "cell_type": "code",
   "execution_count": 3,
   "metadata": {},
   "outputs": [
    {
     "name": "stdout",
     "output_type": "stream",
     "text": [
      "        sepal_len   sepal_wid   petal_len   petal_wid\n",
      "count  150.000000  150.000000  150.000000  150.000000\n",
      "mean     5.843333    3.054000    3.758667    1.198667\n",
      "std      0.828066    0.433594    1.764420    0.763161\n",
      "min      4.300000    2.000000    1.000000    0.100000\n",
      "25%      5.100000    2.800000    1.600000    0.300000\n",
      "50%      5.800000    3.000000    4.350000    1.300000\n",
      "75%      6.400000    3.300000    5.100000    1.800000\n",
      "max      7.900000    4.400000    6.900000    2.500000\n"
     ]
    }
   ],
   "source": [
    "print(iris.describe())"
   ]
  },
  {
   "cell_type": "code",
   "execution_count": 4,
   "metadata": {},
   "outputs": [
    {
     "data": {
      "text/plain": [
       "<matplotlib.collections.PathCollection at 0x201cbef5b00>"
      ]
     },
     "execution_count": 4,
     "metadata": {},
     "output_type": "execute_result"
    },
    {
     "data": {
      "image/png": "[encoded data removed]",
      "text/plain": [
       "<Figure size 432x288 with 1 Axes>"
      ]
     },
     "metadata": {
      "needs_background": "light"
     },
     "output_type": "display_data"
    }
   ],
   "source": [
    "colors = iris['class'].replace(to_replace=['Iris-setosa', 'Iris-virginica', 'Iris-versicolor'], value=['red', 'green', 'green'])\n",
    "plt.scatter(iris[\"sepal_wid\"],iris[\"petal_wid\"],c=colors)"
   ]
  },
  {
   "cell_type": "code",
   "execution_count": 5,
   "metadata": {},
   "outputs": [],
   "source": [
    "iris['class'].replace(to_replace=['Iris-setosa', 'Iris-virginica', 'Iris-versicolor'], value=[+1,-1,-1],inplace=True)\n",
    "iris.drop([\"sepal_len\",\"petal_len\"],axis=1,inplace=True)"
   ]
  },
  {
   "cell_type": "code",
   "execution_count": 6,
   "metadata": {},
   "outputs": [],
   "source": [
    "# def preprocessIris(iris):\n",
    "#     '''\n",
    "#         Preprocess iris data including normalization and label transformation, etc.\n",
    "#     '''\n",
    "#     features=iris.loc[:,[\"sepal_len\",\"sepal_wid\",\"petal_len\",\"petal_wid\"]]\n",
    "#     labels=iris.loc[:,[\"class\"]]\n",
    "#     normalized_features=(features-features.min())/(features.max()-features.min())\n",
    "#     return pd.concat([normalized_features,labels],axis=1)\n",
    "\n",
    "# iris=preprocessIris(iris)\n",
    "# print(iris)"
   ]
  },
  {
   "cell_type": "code",
   "execution_count": 7,
   "metadata": {},
   "outputs": [],
   "source": [
    "def train_test_split(data, label, ratio=0.8):\n",
    "    size=len(data)\n",
    "    index=data.index\n",
    "    random_index=np.random.permutation(index)\n",
    "    split_point = int(size*ratio)\n",
    "    \n",
    "    train_x=data.loc[random_index[:split_point]].values\n",
    "    train_y=label.loc[random_index[:split_point]].values\n",
    "    test_x=data.loc[random_index[split_point:]].values\n",
    "    test_y=label.loc[random_index[split_point:]].values\n",
    "    \n",
    "    return train_x,train_y,test_x,test_y"
   ]
  },
  {
   "cell_type": "code",
   "execution_count": 8,
   "metadata": {},
   "outputs": [],
   "source": [
    "# features = iris.loc[:,[\"sepal_len\",\"sepal_wid\",\"petal_len\",\"petal_wid\"]]\n",
    "features = iris.loc[:,[\"sepal_wid\",\"petal_wid\"]]\n",
    "labels = iris.loc[:,\"class\"]\n",
    "train_x,train_y, val_x, val_y = train_test_split(features,labels,0.7)"
   ]
  },
  {
   "cell_type": "code",
   "execution_count": 9,
   "metadata": {},
   "outputs": [],
   "source": [
    "class Perceptron:\n",
    "    '''\n",
    "        Perceptron\n",
    "    '''\n",
    "    def __init__(self):\n",
    "        self.w = None\n",
    "        self.b = None\n",
    "        self.errors_ = None\n",
    "        \n",
    "    def train(self, train_x,train_y, eta=0.1, epochs = 10):\n",
    "        self.w = np.zeros(train_x.shape[1])\n",
    "        self.b = 0\n",
    "        self.errors_ = []\n",
    "        \n",
    "        sample_size = len(train_x)\n",
    "        for _ in range(epochs):\n",
    "            error = 0\n",
    "            for x,y in zip(train_x, train_y):\n",
    "                res = -y*(np.dot(self.w, x)+ self.b)\n",
    "                if res >= 0:# misclassified \n",
    "                    error += res\n",
    "                    self.w = self.w + eta * y * x\n",
    "                    self.b = self.b + eta * y\n",
    "            self.errors_.append(error)\n",
    "            \n",
    "        print(\"Training errors:\",self.errors_)\n",
    "        return self\n",
    "    \n",
    "    def predict(self, test_x, test_y):\n",
    "        if self.w is None or self.b is None:\n",
    "            raise RuntimeError(\"The model is untrained yet.\")\n",
    "        sample_size = len(test_x)\n",
    "        correct_num = 0\n",
    "        for x,y in zip(test_x,test_y):\n",
    "            pred = y*(np.dot(self.w, x)+ self.b)\n",
    "            if pred > 0:\n",
    "                correct_num+=1\n",
    "        print(\"The final accuracy is %2f%%\" % float(correct_num*100/sample_size))"
   ]
  },
  {
   "cell_type": "code",
   "execution_count": 10,
   "metadata": {},
   "outputs": [
    {
     "name": "stdout",
     "output_type": "stream",
     "text": [
      "Training errors: [3.505000000000001, 0, 0, 0, 0]\n",
      "The final accuracy is 100.000000%\n"
     ]
    }
   ],
   "source": [
    "model = Perceptron()\n",
    "model.train(train_x, train_y,epochs=5)\n",
    "model.predict(val_x,val_y)"
   ]
  },
  {
   "cell_type": "code",
   "execution_count": 11,
   "metadata": {},
   "outputs": [
    {
     "data": {
      "text/plain": [
       "Text(0, 0.5, 'Loss')"
      ]
     },
     "execution_count": 11,
     "metadata": {},
     "output_type": "execute_result"
    },
    {
     "data": {
      "image/png": "[encoded data removed]",
      "text/plain": [
       "<Figure size 432x288 with 1 Axes>"
      ]
     },
     "metadata": {
      "needs_background": "light"
     },
     "output_type": "display_data"
    }
   ],
   "source": [
    "plt.plot(range(1,len(model.errors_) + 1), model.errors_, marker='o')\n",
    "plt.xlabel('Epochs')\n",
    "plt.ylabel('Loss')\n",
    "# plt.show()"
   ]
  },
  {
   "cell_type": "code",
   "execution_count": 12,
   "metadata": {},
   "outputs": [
    {
     "data": {
      "text/plain": [
       "[<matplotlib.lines.Line2D at 0x201cc008978>]"
      ]
     },
     "execution_count": 12,
     "metadata": {},
     "output_type": "execute_result"
    },
    {
     "data": {
      "image/png": "[encoded data removed]",
      "text/plain": [
       "<Figure size 432x288 with 1 Axes>"
      ]
     },
     "metadata": {
      "needs_background": "light"
     },
     "output_type": "display_data"
    }
   ],
   "source": [
    "w = -model.w[0]/model.w[1] # w[0] is the weight for sepal_len, w[3] is the weight for petal_wid\n",
    "b = -model.b/model.w[1]\n",
    "x1 = [iris[\"sepal_wid\"].min(),iris[\"sepal_wid\"].max()]\n",
    "x2 = [x1[0]*w+b,x1[1]*w+b]\n",
    "color = np.where(train_y==1,\"red\",\"green\")\n",
    "plt.scatter(train_x[:,0],train_x[:,1],c=color,s=15)\n",
    "plt.plot(x1,x2)"
   ]
  },
  {
   "cell_type": "code",
   "execution_count": null,
   "metadata": {},
   "outputs": [],
   "source": []
  }
 ],
 "metadata": {
  "kernelspec": {
   "display_name": "Python 3",
   "language": "python",
   "name": "python3"
  },
  "language_info": {
   "codemirror_mode": {
    "name": "ipython",
    "version": 3
   },
   "file_extension": ".py",
   "mimetype": "text/x-python",
   "name": "python",
   "nbconvert_exporter": "python",
   "pygments_lexer": "ipython3",
   "version": "3.6.7"
  }
 },
 "nbformat": 4,
 "nbformat_minor": 2
}
