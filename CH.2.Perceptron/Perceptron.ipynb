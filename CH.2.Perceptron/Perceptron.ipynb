{
 "cells": [
  {
   "cell_type": "code",
   "execution_count": 1,
   "metadata": {},
   "outputs": [],
   "source": [
    "import pandas as pd\n",
    "import numpy as np\n",
    "import matplotlib.pyplot as plt\n",
    "\n",
    "names=[\"sepal_len\",\"sepal_wid\",\"petal_len\",\"petal_wid\",\"class\"]\n",
    "iris = pd.read_csv(\"../data/iris.data\",names=names)"
   ]
  },
  {
   "cell_type": "code",
   "execution_count": 2,
   "metadata": {},
   "outputs": [
    {
     "name": "stdout",
     "output_type": "stream",
     "text": [
      "   sepal_len  sepal_wid  petal_len  petal_wid        class\n",
      "0        5.1        3.5        1.4        0.2  Iris-setosa\n",
      "1        4.9        3.0        1.4        0.2  Iris-setosa\n",
      "2        4.7        3.2        1.3        0.2  Iris-setosa\n",
      "3        4.6        3.1        1.5        0.2  Iris-setosa\n",
      "4        5.0        3.6        1.4        0.2  Iris-setosa\n",
      "5        5.4        3.9        1.7        0.4  Iris-setosa\n",
      "6        4.6        3.4        1.4        0.3  Iris-setosa\n",
      "7        5.0        3.4        1.5        0.2  Iris-setosa\n",
      "8        4.4        2.9        1.4        0.2  Iris-setosa\n",
      "9        4.9        3.1        1.5        0.1  Iris-setosa\n",
      "        sepal_len   sepal_wid   petal_len   petal_wid\n",
      "count  150.000000  150.000000  150.000000  150.000000\n",
      "mean     5.843333    3.054000    3.758667    1.198667\n",
      "std      0.828066    0.433594    1.764420    0.763161\n",
      "min      4.300000    2.000000    1.000000    0.100000\n",
      "25%      5.100000    2.800000    1.600000    0.300000\n",
      "50%      5.800000    3.000000    4.350000    1.300000\n",
      "75%      6.400000    3.300000    5.100000    1.800000\n",
      "max      7.900000    4.400000    6.900000    2.500000\n"
     ]
    }
   ],
   "source": [
    "print(iris[:10])\n",
    "print(iris.describe())"
   ]
  },
  {
   "cell_type": "code",
   "execution_count": 3,
   "metadata": {},
   "outputs": [
    {
     "name": "stdout",
     "output_type": "stream",
     "text": [
      "0        red\n",
      "1        red\n",
      "2        red\n",
      "3        red\n",
      "4        red\n",
      "5        red\n",
      "6        red\n",
      "7        red\n",
      "8        red\n",
      "9        red\n",
      "10       red\n",
      "11       red\n",
      "12       red\n",
      "13       red\n",
      "14       red\n",
      "15       red\n",
      "16       red\n",
      "17       red\n",
      "18       red\n",
      "19       red\n",
      "20       red\n",
      "21       red\n",
      "22       red\n",
      "23       red\n",
      "24       red\n",
      "25       red\n",
      "26       red\n",
      "27       red\n",
      "28       red\n",
      "29       red\n",
      "       ...  \n",
      "120    green\n",
      "121    green\n",
      "122    green\n",
      "123    green\n",
      "124    green\n",
      "125    green\n",
      "126    green\n",
      "127    green\n",
      "128    green\n",
      "129    green\n",
      "130    green\n",
      "131    green\n",
      "132    green\n",
      "133    green\n",
      "134    green\n",
      "135    green\n",
      "136    green\n",
      "137    green\n",
      "138    green\n",
      "139    green\n",
      "140    green\n",
      "141    green\n",
      "142    green\n",
      "143    green\n",
      "144    green\n",
      "145    green\n",
      "146    green\n",
      "147    green\n",
      "148    green\n",
      "149    green\n",
      "Name: class, Length: 150, dtype: object\n"
     ]
    },
    {
     "data": {
      "text/plain": [
       "<matplotlib.collections.PathCollection at 0x20ffa3c6be0>"
      ]
     },
     "execution_count": 3,
     "metadata": {},
     "output_type": "execute_result"
    },
    {
     "data": {
      "image/png": "[encoded data removed]",
      "text/plain": [
       "<Figure size 432x288 with 1 Axes>"
      ]
     },
     "metadata": {
      "needs_background": "light"
     },
     "output_type": "display_data"
    }
   ],
   "source": [
    "colors = iris['class'].replace(to_replace=['Iris-setosa', 'Iris-virginica', 'Iris-versicolor'], value=['red', 'green', 'green'])\n",
    "print(colors)\n",
    "plt.scatter(iris[\"sepal_wid\"],iris[\"petal_wid\"],c=colors)"
   ]
  },
  {
   "cell_type": "code",
   "execution_count": 4,
   "metadata": {},
   "outputs": [
    {
     "name": "stdout",
     "output_type": "stream",
     "text": [
      "     sepal_wid  petal_wid  class\n",
      "0          3.5        0.2      1\n",
      "1          3.0        0.2      1\n",
      "2          3.2        0.2      1\n",
      "3          3.1        0.2      1\n",
      "4          3.6        0.2      1\n",
      "5          3.9        0.4      1\n",
      "6          3.4        0.3      1\n",
      "7          3.4        0.2      1\n",
      "8          2.9        0.2      1\n",
      "9          3.1        0.1      1\n",
      "10         3.7        0.2      1\n",
      "11         3.4        0.2      1\n",
      "12         3.0        0.1      1\n",
      "13         3.0        0.1      1\n",
      "14         4.0        0.2      1\n",
      "15         4.4        0.4      1\n",
      "16         3.9        0.4      1\n",
      "17         3.5        0.3      1\n",
      "18         3.8        0.3      1\n",
      "19         3.8        0.3      1\n",
      "20         3.4        0.2      1\n",
      "21         3.7        0.4      1\n",
      "22         3.6        0.2      1\n",
      "23         3.3        0.5      1\n",
      "24         3.4        0.2      1\n",
      "25         3.0        0.2      1\n",
      "26         3.4        0.4      1\n",
      "27         3.5        0.2      1\n",
      "28         3.4        0.2      1\n",
      "29         3.2        0.2      1\n",
      "..         ...        ...    ...\n",
      "120        3.2        2.3     -1\n",
      "121        2.8        2.0     -1\n",
      "122        2.8        2.0     -1\n",
      "123        2.7        1.8     -1\n",
      "124        3.3        2.1     -1\n",
      "125        3.2        1.8     -1\n",
      "126        2.8        1.8     -1\n",
      "127        3.0        1.8     -1\n",
      "128        2.8        2.1     -1\n",
      "129        3.0        1.6     -1\n",
      "130        2.8        1.9     -1\n",
      "131        3.8        2.0     -1\n",
      "132        2.8        2.2     -1\n",
      "133        2.8        1.5     -1\n",
      "134        2.6        1.4     -1\n",
      "135        3.0        2.3     -1\n",
      "136        3.4        2.4     -1\n",
      "137        3.1        1.8     -1\n",
      "138        3.0        1.8     -1\n",
      "139        3.1        2.1     -1\n",
      "140        3.1        2.4     -1\n",
      "141        3.1        2.3     -1\n",
      "142        2.7        1.9     -1\n",
      "143        3.2        2.3     -1\n",
      "144        3.3        2.5     -1\n",
      "145        3.0        2.3     -1\n",
      "146        2.5        1.9     -1\n",
      "147        3.0        2.0     -1\n",
      "148        3.4        2.3     -1\n",
      "149        3.0        1.8     -1\n",
      "\n",
      "[150 rows x 3 columns]\n"
     ]
    }
   ],
   "source": [
    "iris['class'].replace(to_replace=['Iris-setosa', 'Iris-virginica', 'Iris-versicolor'], value=[+1,-1,-1],inplace=True)\n",
    "iris.drop([\"sepal_len\",\"petal_len\"],axis=1,inplace=True)\n",
    "print(iris)"
   ]
  },
  {
   "cell_type": "code",
   "execution_count": 5,
   "metadata": {},
   "outputs": [],
   "source": [
    "# def preprocessIris(iris):\n",
    "#     '''\n",
    "#         Preprocess iris data including normalization and label transformation, etc.\n",
    "#     '''\n",
    "#     features=iris.loc[:,[\"sepal_len\",\"sepal_wid\",\"petal_len\",\"petal_wid\"]]\n",
    "#     labels=iris.loc[:,[\"class\"]]\n",
    "#     normalized_features=(features-features.min())/(features.max()-features.min())\n",
    "#     return pd.concat([normalized_features,labels],axis=1)\n",
    "\n",
    "# iris=preprocessIris(iris)\n",
    "# print(iris)"
   ]
  },
  {
   "cell_type": "code",
   "execution_count": 6,
   "metadata": {},
   "outputs": [],
   "source": [
    "def train_test_split(data, label, ratio=0.8):\n",
    "    size=len(data)\n",
    "    index=data.index\n",
    "    random_index=np.random.permutation(index)\n",
    "    split_point = int(size*ratio)\n",
    "    \n",
    "    train_x=data.loc[random_index[:split_point]].values\n",
    "    train_y=label.loc[random_index[:split_point]].values\n",
    "    test_x=data.loc[random_index[split_point:]].values\n",
    "    test_y=label.loc[random_index[split_point:]].values\n",
    "    \n",
    "    return train_x,train_y,test_x,test_y"
   ]
  },
  {
   "cell_type": "code",
   "execution_count": 7,
   "metadata": {},
   "outputs": [],
   "source": [
    "# features = iris.loc[:,[\"sepal_len\",\"sepal_wid\",\"petal_len\",\"petal_wid\"]]\n",
    "features = iris.loc[:,[\"sepal_wid\",\"petal_wid\"]]\n",
    "labels = iris.loc[:,\"class\"]\n",
    "train_x,train_y, val_x, val_y = train_test_split(features,labels,0.7)"
   ]
  },
  {
   "cell_type": "code",
   "execution_count": 8,
   "metadata": {},
   "outputs": [],
   "source": [
    "class Perceptron:\n",
    "    '''\n",
    "        Perceptron\n",
    "    '''\n",
    "    def __init__(self):\n",
    "        self.w = None\n",
    "        self.b = None\n",
    "        self.errors_ = None\n",
    "        \n",
    "    def train(self, train_x,train_y, eta=0.1, epochs = 10):\n",
    "        self.w = np.zeros(train_x.shape[1])\n",
    "        self.b = 0\n",
    "        self.errors_ = []\n",
    "        \n",
    "        sample_size = len(train_x)\n",
    "        for _ in range(epochs):\n",
    "            error = 0\n",
    "            for x,y in zip(train_x, train_y):\n",
    "                res = -y*(np.dot(self.w, x)+ self.b)\n",
    "                error += res\n",
    "                \n",
    "                if res >= 0:# misclassified \n",
    "                    self.w = self.w + eta * y * x\n",
    "                    self.b = self.b + eta * y\n",
    "            self.errors_.append(error)\n",
    "            \n",
    "        print(\"Training errors:\",self.errors_)\n",
    "        return self\n",
    "    \n",
    "    def predict(self, test_x, test_y):\n",
    "        if self.w is None or self.b is None:\n",
    "            raise RuntimeError(\"The model is untrained yet.\")\n",
    "        sample_size = len(test_x)\n",
    "        correct_num = 0\n",
    "        for x,y in zip(test_x,test_y):\n",
    "            pred = y*(np.dot(self.w, x)+ self.b)\n",
    "            if pred > 0:\n",
    "                correct_num+=1\n",
    "        print(\"The final accuracy is %2f%%\" % float(correct_num*100/sample_size))"
   ]
  },
  {
   "cell_type": "code",
   "execution_count": 9,
   "metadata": {},
   "outputs": [
    {
     "name": "stdout",
     "output_type": "stream",
     "text": [
      "Training errors: [-73.59799999999998, -96.65800000000002, -97.25800000000002, -97.25800000000002, -97.25800000000002]\n",
      "The final accuracy is 100.000000%\n"
     ]
    }
   ],
   "source": [
    "model = Perceptron()\n",
    "model.train(train_x, train_y,epochs=5)\n",
    "model.predict(val_x,val_y)"
   ]
  },
  {
   "cell_type": "code",
   "execution_count": 10,
   "metadata": {},
   "outputs": [
    {
     "data": {
      "text/plain": [
       "Text(0, 0.5, 'Loss')"
      ]
     },
     "execution_count": 10,
     "metadata": {},
     "output_type": "execute_result"
    },
    {
     "data": {
      "image/png": "[encoded data removed]",
      "text/plain": [
       "<Figure size 432x288 with 1 Axes>"
      ]
     },
     "metadata": {
      "needs_background": "light"
     },
     "output_type": "display_data"
    }
   ],
   "source": [
    "plt.plot(range(1,len(model.errors_) + 1), model.errors_, marker='o')\n",
    "plt.xlabel('Epochs')\n",
    "plt.ylabel('Loss')\n",
    "# plt.show()"
   ]
  },
  {
   "cell_type": "code",
   "execution_count": 11,
   "metadata": {},
   "outputs": [
    {
     "data": {
      "text/plain": [
       "[<matplotlib.lines.Line2D at 0x20ffa4b1208>]"
      ]
     },
     "execution_count": 11,
     "metadata": {},
     "output_type": "execute_result"
    },
    {
     "data": {
      "image/png": "[encoded data removed]",
      "text/plain": [
       "<Figure size 432x288 with 1 Axes>"
      ]
     },
     "metadata": {
      "needs_background": "light"
     },
     "output_type": "display_data"
    }
   ],
   "source": [
    "w = -model.w[0]/model.w[1] # w[0] is the weight for sepal_len, w[3] is the weight for petal_wid\n",
    "b = -model.b/model.w[1]\n",
    "x1 = [iris[\"sepal_wid\"].min(),iris[\"sepal_wid\"].max()]\n",
    "x2 = [x1[0]*w+b,x1[1]*w+b]\n",
    "plt.scatter(iris[\"sepal_wid\"],iris[\"petal_wid\"],c=colors)\n",
    "plt.plot(x1,x2)"
   ]
  },
  {
   "cell_type": "code",
   "execution_count": null,
   "metadata": {},
   "outputs": [],
   "source": []
  }
 ],
 "metadata": {
  "kernelspec": {
   "display_name": "Python 3",
   "language": "python",
   "name": "python3"
  },
  "language_info": {
   "codemirror_mode": {
    "name": "ipython",
    "version": 3
   },
   "file_extension": ".py",
   "mimetype": "text/x-python",
   "name": "python",
   "nbconvert_exporter": "python",
   "pygments_lexer": "ipython3",
   "version": "3.6.7"
  }
 },
 "nbformat": 4,
 "nbformat_minor": 2
}
